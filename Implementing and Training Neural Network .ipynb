{
 "cells": [
  {
   "cell_type": "code",
   "execution_count": 4,
   "id": "2ebb40d7",
   "metadata": {},
   "outputs": [],
   "source": [
    "#Import Libraries and Package Modules\n",
    "\n",
    "import torch\n",
    "from torch import nn\n",
    "from torch.utils.data import DataLoader\n",
    "from torchvision import datasets\n",
    "from torchvision.transforms import ToTensor"
   ]
  },
  {
   "cell_type": "code",
   "execution_count": 5,
   "id": "21301bc0",
   "metadata": {},
   "outputs": [],
   "source": [
    "#Defining a Function to Download MNIST Dataset\n",
    "\n",
    "def downloadDatasets():\n",
    "    \n",
    "    #Dataset for Training the Model\n",
    "    trainData = datasets.MNIST(\n",
    "        root=\"data\",\n",
    "        train=True,\n",
    "        download=True,\n",
    "        transform=ToTensor(),\n",
    "    )\n",
    "    \n",
    "    #Dataset for Testing/ Validating the Model\n",
    "    validationData = datasets.MNIST(\n",
    "        root=\"data\",\n",
    "        train=False,\n",
    "        download=True,\n",
    "        transform=ToTensor(),\n",
    "    )\n",
    "    return trainData, validationData"
   ]
  },
  {
   "cell_type": "code",
   "execution_count": 6,
   "id": "3b6acfd4",
   "metadata": {
    "scrolled": false
   },
   "outputs": [
    {
     "name": "stdout",
     "output_type": "stream",
     "text": [
      "Downloaded MNISt Dataset\n"
     ]
    }
   ],
   "source": [
    "#Creating Script to Check downloadDataset()\n",
    "\n",
    "if __name__ == \"__main__\":\n",
    "\n",
    "    # download MNIST dataset\n",
    "    trainData, _ = downloadDatasets()\n",
    "    print(\"Downloaded MNISt Dataset\")"
   ]
  },
  {
   "cell_type": "code",
   "execution_count": 7,
   "id": "2f435e72",
   "metadata": {},
   "outputs": [
    {
     "name": "stdout",
     "output_type": "stream",
     "text": [
      "DataLoader for Train Dataset is Created.\n"
     ]
    }
   ],
   "source": [
    "#Create a DataLoader for the Train set\n",
    "BATCH_SIZE = 128\n",
    "\n",
    "def createDataLoader(trainData, batchSize):\n",
    "    trainDataloader = DataLoader(trainData, batch_size=batchSize)\n",
    "    return trainDataloader\n",
    "\n",
    "trainDataLoader = createDataLoader(trainData, BATCH_SIZE)\n",
    "print(\"DataLoader for Train Dataset is Created.\")"
   ]
  },
  {
   "cell_type": "code",
   "execution_count": 8,
   "id": "1fa17289",
   "metadata": {},
   "outputs": [],
   "source": [
    "#Built a Model - Feed Forward Network\n",
    "\n",
    "class FeedForwardNet(nn.Module):\n",
    "    #Creating Constructor\n",
    "    def __init__(self):\n",
    "        #Invoke Cnstructor of base class\n",
    "        super().__init__()\n",
    "        #Create Initial Layer\n",
    "        self.flatten = nn.Flatten()\n",
    "        #Create Dense Layers\n",
    "        #Use Sequential() to pack up Dense layers together\n",
    "        self.denseLayers = nn.Sequential(\n",
    "            #Appling Linear Layer\n",
    "            nn.Linear(28 * 28, 256),\n",
    "            #Applying Activation Function: Rectified Linear Unit\n",
    "            nn.ReLU(),\n",
    "            #Another Linear Function\n",
    "            nn.Linear(256, 10)\n",
    "        )\n",
    "        #Perform Basic Transformation using softmax()\n",
    "        self.softmax = nn.Softmax(dim=1)\n",
    "    \n",
    "    #Defining Forward Function\n",
    "    def forward(self, input_data):\n",
    "        #Get Flattened Data\n",
    "        x = self.flatten(input_data)\n",
    "        #Get Logits\n",
    "        logits = self.denseLayers(x)\n",
    "        #Get Predictions\n",
    "        predictions = self.softmax(logits)\n",
    "        return predictions\n"
   ]
  },
  {
   "cell_type": "code",
   "execution_count": 9,
   "id": "98836580",
   "metadata": {
    "scrolled": true
   },
   "outputs": [
    {
     "name": "stdout",
     "output_type": "stream",
     "text": [
      "Using cpu\n",
      "FeedForwardNet(\n",
      "  (flatten): Flatten(start_dim=1, end_dim=-1)\n",
      "  (denseLayers): Sequential(\n",
      "    (0): Linear(in_features=784, out_features=256, bias=True)\n",
      "    (1): ReLU()\n",
      "    (2): Linear(in_features=256, out_features=10, bias=True)\n",
      "  )\n",
      "  (softmax): Softmax(dim=1)\n",
      ")\n"
     ]
    }
   ],
   "source": [
    "#Updating Script to Check Feed Forward Network Model Working\n",
    "\n",
    "if __name__ == \"__main__\":\n",
    "\n",
    "    # download MNIST dataset\n",
    "    trainData, _ = downloadDatasets()\n",
    "    #print(\"Downloaded MNISt Dataset\")\n",
    "    trainDataLoader = createDataLoader(trainData, BATCH_SIZE)\n",
    "\n",
    "    #Check which device I'm using\n",
    "    if torch.cuda.is_available():\n",
    "        device = \"cuda\"\n",
    "    else:\n",
    "        device = \"cpu\"\n",
    "    print(f\"Using {device}\")\n",
    "    # construct model and assign it to device\n",
    "    feedForwardNet = FeedForwardNet().to(device)\n",
    "    print(feedForwardNet)"
   ]
  },
  {
   "cell_type": "code",
   "execution_count": 10,
   "id": "9e8ac38b",
   "metadata": {},
   "outputs": [],
   "source": [
    "def trainOneEpoch(model, dataLoader, lossFn, optimiser, device):\n",
    "    for input, target in dataLoader:\n",
    "        input, target = input.to(device), target.to(device)\n",
    "\n",
    "        # calculate loss\n",
    "        prediction = model(input)\n",
    "        loss = lossFn(prediction, target)\n",
    "\n",
    "        # backpropagate error and update weights\n",
    "        optimiser.zero_grad()\n",
    "        loss.backward()\n",
    "        optimiser.step()\n",
    "\n",
    "    print(f\"Loss: {loss.item()}\")\n",
    "\n",
    "\n",
    "def train(model, dataLoader, lossFn, optimiser, device, epochs):\n",
    "    for i in range(epochs):\n",
    "        print(f\"Epoch {i+1}\")\n",
    "        trainOneEpoch(model, dataLoader, lossFn, optimiser, device)\n",
    "        print(\"---------------------------\")\n",
    "    print(\"Finished training\")"
   ]
  },
  {
   "cell_type": "code",
   "execution_count": 14,
   "id": "22178b9f",
   "metadata": {
    "scrolled": false
   },
   "outputs": [
    {
     "name": "stdout",
     "output_type": "stream",
     "text": [
      "Using cpu\n",
      "FeedForwardNet(\n",
      "  (flatten): Flatten(start_dim=1, end_dim=-1)\n",
      "  (denseLayers): Sequential(\n",
      "    (0): Linear(in_features=784, out_features=256, bias=True)\n",
      "    (1): ReLU()\n",
      "    (2): Linear(in_features=256, out_features=10, bias=True)\n",
      "  )\n",
      "  (softmax): Softmax(dim=1)\n",
      ")\n",
      "Epoch 1\n",
      "Loss: 1.5120779275894165\n",
      "---------------------------\n",
      "Epoch 2\n",
      "Loss: 1.4969273805618286\n",
      "---------------------------\n",
      "Epoch 3\n",
      "Loss: 1.4974244832992554\n",
      "---------------------------\n",
      "Epoch 4\n",
      "Loss: 1.4847084283828735\n",
      "---------------------------\n",
      "Epoch 5\n",
      "Loss: 1.4773716926574707\n",
      "---------------------------\n",
      "Epoch 6\n",
      "Loss: 1.4746065139770508\n",
      "---------------------------\n",
      "Epoch 7\n",
      "Loss: 1.4735969305038452\n",
      "---------------------------\n",
      "Epoch 8\n",
      "Loss: 1.4733158349990845\n",
      "---------------------------\n",
      "Epoch 9\n",
      "Loss: 1.472577691078186\n",
      "---------------------------\n",
      "Epoch 10\n",
      "Loss: 1.472303867340088\n",
      "---------------------------\n",
      "Finished training\n",
      "Trained feed forward net saved at feedforwardnet.pth\n"
     ]
    }
   ],
   "source": [
    "   \n",
    "#Defining Contants\n",
    "BATCH_SIZE = 128\n",
    "EPOCHS = 10\n",
    "LEARNING_RATE = 0.001    \n",
    "\n",
    "#Updating Script to Check Feed Forward Network Model Working\n",
    "if __name__ == \"__main__\":\n",
    "\n",
    "    # download data and create data loader\n",
    "    trainData, _ = downloadDatasets()\n",
    "    trainDataLoader = createDataLoader(trainData, BATCH_SIZE)\n",
    "\n",
    "    #Construct Model and Assign it to device\n",
    "    if torch.cuda.is_available():\n",
    "        device = \"cuda\"\n",
    "    else:\n",
    "        device = \"cpu\"\n",
    "    print(f\"Using {device}\")\n",
    "    feedForwardNet = FeedForwardNet().to(device)\n",
    "    print(feedForwardNet)\n",
    "\n",
    "    #Initialise loss funtion + optimiser\n",
    "    lossFn = nn.CrossEntropyLoss()\n",
    "    optimiser = torch.optim.Adam(feedForwardNet.parameters(),\n",
    "                                 lr=LEARNING_RATE)\n",
    "\n",
    "    #Train Model\n",
    "    train(feedForwardNet, trainDataLoader, lossFn, optimiser, device, EPOCHS)\n",
    "\n",
    "    #Save Model\n",
    "    torch.save(feedForwardNet.state_dict(), \"feedforwardnet.pth\")\n",
    "    print(\"Trained feed forward net saved at feedforwardnet.pth\")"
   ]
  },
  {
   "cell_type": "code",
   "execution_count": null,
   "id": "82b65ab0",
   "metadata": {},
   "outputs": [],
   "source": []
  }
 ],
 "metadata": {
  "kernelspec": {
   "display_name": "Python 3 (ipykernel)",
   "language": "python",
   "name": "python3"
  },
  "language_info": {
   "codemirror_mode": {
    "name": "ipython",
    "version": 3
   },
   "file_extension": ".py",
   "mimetype": "text/x-python",
   "name": "python",
   "nbconvert_exporter": "python",
   "pygments_lexer": "ipython3",
   "version": "3.8.8"
  }
 },
 "nbformat": 4,
 "nbformat_minor": 5
}

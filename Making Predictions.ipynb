{
 "cells": [
  {
   "cell_type": "code",
   "execution_count": 3,
   "id": "564d9219",
   "metadata": {},
   "outputs": [
    {
     "ename": "ModuleNotFoundError",
     "evalue": "No module named 'trainModel'",
     "output_type": "error",
     "traceback": [
      "\u001b[1;31m---------------------------------------------------------------------------\u001b[0m",
      "\u001b[1;31mModuleNotFoundError\u001b[0m                       Traceback (most recent call last)",
      "\u001b[1;32m~\\AppData\\Local\\Temp/ipykernel_14048/511137243.py\u001b[0m in \u001b[0;36m<module>\u001b[1;34m\u001b[0m\n\u001b[0;32m      1\u001b[0m \u001b[1;32mimport\u001b[0m \u001b[0mtorch\u001b[0m\u001b[1;33m\u001b[0m\u001b[1;33m\u001b[0m\u001b[0m\n\u001b[1;32m----> 2\u001b[1;33m \u001b[1;32mfrom\u001b[0m \u001b[0mtrainModel\u001b[0m \u001b[1;32mimport\u001b[0m \u001b[0mFeedForwardNet\u001b[0m\u001b[1;33m,\u001b[0m \u001b[0mdownloadDatasets\u001b[0m\u001b[1;33m\u001b[0m\u001b[1;33m\u001b[0m\u001b[0m\n\u001b[0m\u001b[0;32m      3\u001b[0m \u001b[1;33m\u001b[0m\u001b[0m\n\u001b[0;32m      4\u001b[0m \u001b[1;33m\u001b[0m\u001b[0m\n\u001b[0;32m      5\u001b[0m classMapping = [\n",
      "\u001b[1;31mModuleNotFoundError\u001b[0m: No module named 'trainModel'"
     ]
    }
   ],
   "source": [
    "import torch\n",
    "from trainModel import FeedForwardNet, downloadDatasets\n",
    "\n",
    "\n",
    "classMapping = [\n",
    "    \"0\",\n",
    "    \"1\",\n",
    "    \"2\",\n",
    "    \"3\",\n",
    "    \"4\",\n",
    "    \"5\",\n",
    "    \"6\",\n",
    "    \"7\",\n",
    "    \"8\",\n",
    "    \"9\"\n",
    "]\n",
    "\n",
    "\n",
    "def predict(model, input, target, class_mapping):\n",
    "    model.eval()\n",
    "    with torch.no_grad():\n",
    "        predictions = model(input)\n",
    "        # Tensor (1, 10) -> [ [0.1, 0.01, ..., 0.6] ]\n",
    "        predictedIndex = predictions[0].argmax(0)\n",
    "        predicted = class_mapping[predictedIndex]\n",
    "        expected = class_mapping[target]\n",
    "    return predicted, expected\n",
    "\n",
    "\n",
    "if __name__ == \"__main__\":\n",
    "    # load back the model\n",
    "    feedForwardNet = FeedForwardNet()\n",
    "    stateDict = torch.load(\"feedforwardnet.pth\")\n",
    "    feedForwardNet.load_state_dict(stateDict)\n",
    "\n",
    "    # load MNIST validation dataset\n",
    "    _, validationData = downloadDatasets()\n",
    "\n",
    "    # get a sample from the validation dataset for inference\n",
    "    input, target = validationData[0][0], validationData[0][1]\n",
    "\n",
    "    # make an inference\n",
    "    predicted, expected = predict(feedForwardNet, input, target,\n",
    "                                  classMapping)\n",
    "    print(f\"Predicted: '{predicted}', expected: '{expected}'\")"
   ]
  },
  {
   "cell_type": "code",
   "execution_count": null,
   "id": "eb5a81af",
   "metadata": {},
   "outputs": [],
   "source": []
  }
 ],
 "metadata": {
  "kernelspec": {
   "display_name": "Python 3 (ipykernel)",
   "language": "python",
   "name": "python3"
  },
  "language_info": {
   "codemirror_mode": {
    "name": "ipython",
    "version": 3
   },
   "file_extension": ".py",
   "mimetype": "text/x-python",
   "name": "python",
   "nbconvert_exporter": "python",
   "pygments_lexer": "ipython3",
   "version": "3.8.8"
  }
 },
 "nbformat": 4,
 "nbformat_minor": 5
}
